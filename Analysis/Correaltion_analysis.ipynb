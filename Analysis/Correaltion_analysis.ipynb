{
 "cells": [
  {
   "cell_type": "code",
   "execution_count": 1,
   "metadata": {},
   "outputs": [],
   "source": [
    "import numpy as np\n",
    "import pandas as pd \n",
    "import os\n",
    "import matplotlib.pyplot as plt\n",
    "import seaborn as sns \n",
    "import pingouin as pg\n",
    "import scipy.stats as stats\n",
    "\n",
    "import warnings\n",
    "warnings.filterwarnings('ignore')\n"
   ]
  },
  {
   "cell_type": "code",
   "execution_count": 17,
   "metadata": {},
   "outputs": [],
   "source": [
    "def get_data_dir(data_name : str) :\n",
    "    curr_dir = os.getcwd()\n",
    "    data_dir = curr_dir + \"/\" + data_name\n",
    "\n",
    "    return data_dir\n",
    "\n",
    "def get_data_dict( data_name ) :\n",
    "    data_dir = get_data_dir(data_name)\n",
    "    parti_list = os.listdir(data_dir)\n",
    "    parti_list = [ x for x in parti_list if not x.startswith(\".\")]\n",
    "    parti_dict = { x.split(sep='.')[0] : np.load(data_dir + \"/\" + x) if x.endswith(\".npy\") \\\n",
    "                  else pd.read_csv(data_dir + \"/\" + x, index_col=0 ).values for x in parti_list}\n",
    "\n",
    "    return parti_dict\n",
    "\n",
    "def dict_sort( data_dict ) : \n",
    "    sorted_dict = dict(sorted(data_dict.items()))\n",
    "\n",
    "    return sorted_dict\n",
    "\n",
    "def key_str2int( data_dict ) : \n",
    "    data_dict = { int(key.split(sep='_')[0]) : value for key, value in data_dict.items() }\n",
    "\n",
    "    return data_dict\n",
    "    \n",
    "\n",
    "def get_data_arr( data_dict ) :\n",
    "    data_dict = dict_sort(data_dict)\n",
    "    arr = [ value for key, value in data_dict.items() ]\n",
    "\n",
    "    arr = np.array(arr)\n",
    "\n",
    "    return arr\n",
    "\n",
    "def correlation_analysis( data1, data2, method='pearson', level= 0.05) :\n",
    "    df = pg.corr(data1,data2, method=method) \n",
    "    r, p = df['r'].values, df['p-val'].values\n",
    "    if p <= level and r >= 0.4 :\n",
    "        print( f\" r = {r}, p = {p}\")\n",
    "    #else : print(\"Not Significant\")\n",
    "\n",
    "\n"
   ]
  },
  {
   "cell_type": "code",
   "execution_count": 3,
   "metadata": {},
   "outputs": [],
   "source": [
    "ssq_dict = get_data_dict('SSQ')\n",
    "rating_dict = get_data_dict('Dynamic_rating')\n",
    "dense_dict = get_data_dict('Dense')\n",
    "v_dict = get_data_dict('HSV')\n",
    "feature_dict = get_data_dict('Feature')"
   ]
  },
  {
   "cell_type": "code",
   "execution_count": 4,
   "metadata": {},
   "outputs": [
    {
     "name": "stdout",
     "output_type": "stream",
     "text": [
      "dict_keys(['10_flows', '11_flows', '12_flows', '13_flows', '14_flows', '15_flows', '16_flows', '17_flows', '18_flows', '19_flows', '1_flows', '20_flows', '2_flows', '3_flows', '4_flows', '5_flows', '6_flows', '7_flows', '8_flows', '9_flows'])\n",
      "dict_keys(['10_v_values', '11_v_values', '12_v_values', '13_v_values', '14_v_values', '15_v_values', '16_v_values', '17_v_values', '18_v_values', '19_v_values', '1_v_values', '20_v_values', '2_v_values', '3_v_values', '4_v_values', '5_v_values', '6_v_values', '7_v_values', '8_v_values', '9_v_values'])\n",
      "dict_keys(['10_feature', '11_feature', '12_feature', '13_feature', '14_feature', '15_feature', '16_feature', '17_feature', '18_feature', '19_feature', '1_feature', '20_feature', '2_feature', '3_feature', '4_feature', '5_feature', '6_feature', '7_feature', '8_feature', '9_feature'])\n",
      "dict_keys([10, 11, 12, 13, 14, 15, 16, 17, 18, 19, 1, 20, 2, 3, 4, 5, 6, 7, 8, 9])\n",
      "dict_keys([10, 11, 12, 13, 14, 15, 16, 17, 18, 19, 1, 20, 2, 3, 4, 5, 6, 7, 8, 9])\n",
      "dict_keys([10, 11, 12, 13, 14, 15, 16, 17, 18, 19, 1, 20, 2, 3, 4, 5, 6, 7, 8, 9])\n"
     ]
    }
   ],
   "source": [
    "print(dense_dict.keys())\n",
    "print(v_dict.keys())\n",
    "print(feature_dict.keys())\n",
    "\n",
    "dense_dict = key_str2int(dense_dict)\n",
    "v_dict = key_str2int(v_dict)\n",
    "feature_dict = key_str2int(feature_dict)\n",
    "\n",
    "print(dense_dict.keys())\n",
    "print(v_dict.keys())\n",
    "print(feature_dict.keys())"
   ]
  },
  {
   "cell_type": "code",
   "execution_count": 5,
   "metadata": {},
   "outputs": [],
   "source": [
    "for key, value in feature_dict.items() : \n",
    "    feature_dict[key] = value[:3600]"
   ]
  },
  {
   "cell_type": "code",
   "execution_count": 6,
   "metadata": {},
   "outputs": [
    {
     "name": "stdout",
     "output_type": "stream",
     "text": [
      "(30, 5)\n",
      "(7150, 20)\n",
      "(3600, 256, 256)\n",
      "(3600, 256, 256)\n",
      "(3600,)\n"
     ]
    }
   ],
   "source": [
    "print(ssq_dict[iter(ssq_dict).__next__()].shape)\n",
    "print(rating_dict[iter(rating_dict).__next__()].shape)\n",
    "print(dense_dict[iter(dense_dict).__next__()].shape)\n",
    "print(v_dict[iter(v_dict).__next__()].shape)\n",
    "print(feature_dict[iter(feature_dict).__next__()].shape)\n"
   ]
  },
  {
   "cell_type": "code",
   "execution_count": 7,
   "metadata": {},
   "outputs": [],
   "source": [
    "rating_arr = get_data_arr(rating_dict)\n",
    "dense_arr = get_data_arr(dense_dict)\n",
    "v_arr = get_data_arr(v_dict)\n",
    "feature_arr = get_data_arr(feature_dict)"
   ]
  },
  {
   "cell_type": "code",
   "execution_count": 8,
   "metadata": {},
   "outputs": [
    {
     "name": "stdout",
     "output_type": "stream",
     "text": [
      "(30, 7150, 20)\n",
      "(20, 3600, 256, 256)\n",
      "(20, 3600, 256, 256)\n",
      "(20, 3600)\n"
     ]
    }
   ],
   "source": [
    "print(rating_arr.shape)\n",
    "print(dense_arr.shape)\n",
    "print(v_arr.shape)\n",
    "print(feature_arr.shape)"
   ]
  },
  {
   "cell_type": "code",
   "execution_count": 9,
   "metadata": {},
   "outputs": [
    {
     "name": "stdout",
     "output_type": "stream",
     "text": [
      "False\n"
     ]
    }
   ],
   "source": [
    "# Dense_arr 데이터에 inf 값이 존재 -> 제거\n",
    "dense_arr[np.isinf(dense_arr)] = 0 \n",
    "print (np.isinf(dense_arr).any())"
   ]
  },
  {
   "cell_type": "code",
   "execution_count": 10,
   "metadata": {},
   "outputs": [
    {
     "data": {
      "text/plain": [
       "(30, 5)"
      ]
     },
     "execution_count": 10,
     "metadata": {},
     "output_type": "execute_result"
    }
   ],
   "source": [
    "ssq_dict[\"Feeling heavy in the head\"].shape"
   ]
  },
  {
   "cell_type": "code",
   "execution_count": 11,
   "metadata": {},
   "outputs": [
    {
     "data": {
      "text/html": [
       "<div>\n",
       "<style scoped>\n",
       "    .dataframe tbody tr th:only-of-type {\n",
       "        vertical-align: middle;\n",
       "    }\n",
       "\n",
       "    .dataframe tbody tr th {\n",
       "        vertical-align: top;\n",
       "    }\n",
       "\n",
       "    .dataframe thead th {\n",
       "        text-align: right;\n",
       "    }\n",
       "</style>\n",
       "<table border=\"1\" class=\"dataframe\">\n",
       "  <thead>\n",
       "    <tr style=\"text-align: right;\">\n",
       "      <th></th>\n",
       "      <th>W</th>\n",
       "      <th>pval</th>\n",
       "      <th>normal</th>\n",
       "    </tr>\n",
       "  </thead>\n",
       "  <tbody>\n",
       "    <tr>\n",
       "      <th>0</th>\n",
       "      <td>0.908167</td>\n",
       "      <td>0.0</td>\n",
       "      <td>False</td>\n",
       "    </tr>\n",
       "  </tbody>\n",
       "</table>\n",
       "</div>"
      ],
      "text/plain": [
       "          W  pval  normal\n",
       "0  0.908167   0.0   False"
      ]
     },
     "execution_count": 11,
     "metadata": {},
     "output_type": "execute_result"
    }
   ],
   "source": [
    "# Rating Normality Test\n",
    "pg.normality( rating_arr.mean(axis=(0)).flatten())"
   ]
  },
  {
   "cell_type": "code",
   "execution_count": 12,
   "metadata": {},
   "outputs": [
    {
     "name": "stdout",
     "output_type": "stream",
     "text": [
      "Feeling heavy in the head // False\n",
      "Vertigo // False\n",
      "Stiff shoulder // False\n",
      "Difficulty focussing // False\n",
      "Vomiiting // False\n",
      "Nausea // False\n",
      "Eyestrain // False\n",
      "Near vision difficulty // False\n",
      "Warm Eyes // False\n",
      "Hazy // False\n",
      "Gritty // False\n",
      "Watery Eyes // False\n",
      "Bleary // False\n",
      "Sleepy // False\n",
      "Heavy Eyes // False\n",
      "Sting // False\n",
      "Dry Eyed // False\n",
      "Far vision difficulty // False\n",
      "Difficulty concentrating // False\n",
      "Pain in the middle of the head // False\n",
      "Stiff neck // False\n",
      "Eye-Ache // False\n",
      "Feel heavy // False\n",
      "Pain in the temple // False\n",
      "Pain in the back of the head // False\n",
      "Double vision // False\n",
      "Dizzy // False\n",
      "Flickering // False\n"
     ]
    }
   ],
   "source": [
    "# SSQ Normality Test \n",
    "for key, value in ssq_dict.items() :\n",
    "    arr = value.flatten()\n",
    "    df = pg.normality(arr)\n",
    "\n",
    "    print(key, \"//\",df['normal'][0])\n",
    "    # if df['normal'].values == True:\n",
    "    #     print(key,df['pval'])"
   ]
  },
  {
   "cell_type": "code",
   "execution_count": 13,
   "metadata": {},
   "outputs": [
    {
     "data": {
      "text/html": [
       "<div>\n",
       "<style scoped>\n",
       "    .dataframe tbody tr th:only-of-type {\n",
       "        vertical-align: middle;\n",
       "    }\n",
       "\n",
       "    .dataframe tbody tr th {\n",
       "        vertical-align: top;\n",
       "    }\n",
       "\n",
       "    .dataframe thead th {\n",
       "        text-align: right;\n",
       "    }\n",
       "</style>\n",
       "<table border=\"1\" class=\"dataframe\">\n",
       "  <thead>\n",
       "    <tr style=\"text-align: right;\">\n",
       "      <th></th>\n",
       "      <th>n</th>\n",
       "      <th>r</th>\n",
       "      <th>CI95%</th>\n",
       "      <th>p-val</th>\n",
       "      <th>power</th>\n",
       "    </tr>\n",
       "  </thead>\n",
       "  <tbody>\n",
       "    <tr>\n",
       "      <th>spearman</th>\n",
       "      <td>20</td>\n",
       "      <td>0.897744</td>\n",
       "      <td>[0.76, 0.96]</td>\n",
       "      <td>7.968058e-08</td>\n",
       "      <td>0.999984</td>\n",
       "    </tr>\n",
       "  </tbody>\n",
       "</table>\n",
       "</div>"
      ],
      "text/plain": [
       "           n         r         CI95%         p-val     power\n",
       "spearman  20  0.897744  [0.76, 0.96]  7.968058e-08  0.999984"
      ]
     },
     "execution_count": 13,
     "metadata": {},
     "output_type": "execute_result"
    }
   ],
   "source": [
    "#  Rating & Dense OF Correlation\n",
    "pg.corr(rating_arr.mean(axis=(0,1)),dense_arr.mean(axis=(1,2,3)), method='spearman')"
   ]
  },
  {
   "cell_type": "code",
   "execution_count": 14,
   "metadata": {},
   "outputs": [
    {
     "data": {
      "text/html": [
       "<div>\n",
       "<style scoped>\n",
       "    .dataframe tbody tr th:only-of-type {\n",
       "        vertical-align: middle;\n",
       "    }\n",
       "\n",
       "    .dataframe tbody tr th {\n",
       "        vertical-align: top;\n",
       "    }\n",
       "\n",
       "    .dataframe thead th {\n",
       "        text-align: right;\n",
       "    }\n",
       "</style>\n",
       "<table border=\"1\" class=\"dataframe\">\n",
       "  <thead>\n",
       "    <tr style=\"text-align: right;\">\n",
       "      <th></th>\n",
       "      <th>n</th>\n",
       "      <th>r</th>\n",
       "      <th>CI95%</th>\n",
       "      <th>p-val</th>\n",
       "      <th>power</th>\n",
       "    </tr>\n",
       "  </thead>\n",
       "  <tbody>\n",
       "    <tr>\n",
       "      <th>spearman</th>\n",
       "      <td>20</td>\n",
       "      <td>0.876692</td>\n",
       "      <td>[0.71, 0.95]</td>\n",
       "      <td>3.967924e-07</td>\n",
       "      <td>0.999909</td>\n",
       "    </tr>\n",
       "  </tbody>\n",
       "</table>\n",
       "</div>"
      ],
      "text/plain": [
       "           n         r         CI95%         p-val     power\n",
       "spearman  20  0.876692  [0.71, 0.95]  3.967924e-07  0.999909"
      ]
     },
     "execution_count": 14,
     "metadata": {},
     "output_type": "execute_result"
    }
   ],
   "source": [
    "#  Rating & Feature OF Correlation\n",
    "pg.corr(rating_arr.mean(axis=(0,1)),feature_arr.mean(axis=1), method='spearman')"
   ]
  },
  {
   "cell_type": "code",
   "execution_count": 15,
   "metadata": {},
   "outputs": [
    {
     "data": {
      "text/html": [
       "<div>\n",
       "<style scoped>\n",
       "    .dataframe tbody tr th:only-of-type {\n",
       "        vertical-align: middle;\n",
       "    }\n",
       "\n",
       "    .dataframe tbody tr th {\n",
       "        vertical-align: top;\n",
       "    }\n",
       "\n",
       "    .dataframe thead th {\n",
       "        text-align: right;\n",
       "    }\n",
       "</style>\n",
       "<table border=\"1\" class=\"dataframe\">\n",
       "  <thead>\n",
       "    <tr style=\"text-align: right;\">\n",
       "      <th></th>\n",
       "      <th>n</th>\n",
       "      <th>r</th>\n",
       "      <th>CI95%</th>\n",
       "      <th>p-val</th>\n",
       "      <th>power</th>\n",
       "    </tr>\n",
       "  </thead>\n",
       "  <tbody>\n",
       "    <tr>\n",
       "      <th>spearman</th>\n",
       "      <td>20</td>\n",
       "      <td>0.506767</td>\n",
       "      <td>[0.08, 0.78]</td>\n",
       "      <td>0.022588</td>\n",
       "      <td>0.652059</td>\n",
       "    </tr>\n",
       "  </tbody>\n",
       "</table>\n",
       "</div>"
      ],
      "text/plain": [
       "           n         r         CI95%     p-val     power\n",
       "spearman  20  0.506767  [0.08, 0.78]  0.022588  0.652059"
      ]
     },
     "execution_count": 15,
     "metadata": {},
     "output_type": "execute_result"
    }
   ],
   "source": [
    "# Rating & V-value Correlation\n",
    "pg.corr(rating_arr.mean(axis=(0,1)),v_arr.mean(axis=(1,2,3)), method='spearman')"
   ]
  },
  {
   "cell_type": "code",
   "execution_count": 18,
   "metadata": {},
   "outputs": [
    {
     "name": "stdout",
     "output_type": "stream",
     "text": [
      "Feeling heavy in the head\n",
      "--------------------------------------------------\n",
      "Vertigo\n",
      "--------------------------------------------------\n",
      "Stiff shoulder\n",
      "--------------------------------------------------\n",
      "Difficulty focussing\n",
      " r = [0.46623582], p = [8.0154668e-08]\n",
      "--------------------------------------------------\n",
      "Vomiiting\n",
      "--------------------------------------------------\n",
      "Nausea\n",
      "--------------------------------------------------\n",
      "Eyestrain\n",
      " r = [0.51396799], p = [1.92616045e-09]\n",
      "--------------------------------------------------\n",
      "Near vision difficulty\n",
      "--------------------------------------------------\n",
      "Warm Eyes\n",
      "--------------------------------------------------\n",
      "Hazy\n",
      "--------------------------------------------------\n",
      "Gritty\n",
      "--------------------------------------------------\n",
      "Watery Eyes\n",
      "--------------------------------------------------\n",
      "Bleary\n",
      "--------------------------------------------------\n",
      "Sleepy\n",
      "--------------------------------------------------\n",
      "Heavy Eyes\n",
      " r = [0.42254727], p = [1.52860113e-06]\n",
      "--------------------------------------------------\n",
      "Sting\n",
      "--------------------------------------------------\n",
      "Dry Eyed\n",
      "--------------------------------------------------\n",
      "Far vision difficulty\n",
      "--------------------------------------------------\n",
      "Difficulty concentrating\n",
      "--------------------------------------------------\n",
      "Pain in the middle of the head\n",
      "--------------------------------------------------\n",
      "Stiff neck\n",
      "--------------------------------------------------\n",
      "Eye-Ache\n",
      "--------------------------------------------------\n",
      "Feel heavy\n",
      "--------------------------------------------------\n",
      "Pain in the temple\n",
      "--------------------------------------------------\n",
      "Pain in the back of the head\n",
      "--------------------------------------------------\n",
      "Double vision\n",
      "--------------------------------------------------\n",
      "Dizzy\n",
      " r = [0.51991842], p = [1.16103901e-09]\n",
      "--------------------------------------------------\n",
      "Flickering\n",
      "--------------------------------------------------\n"
     ]
    },
    {
     "ename": "",
     "evalue": "",
     "output_type": "error",
     "traceback": [
      "\u001b[1;31mThe Kernel crashed while executing code in the the current cell or a previous cell. Please review the code in the cell(s) to identify a possible cause of the failure. Click <a href='https://aka.ms/vscodeJupyterKernelCrash'>here</a> for more info. View Jupyter <a href='command:jupyter.viewOutput'>log</a> for further details."
     ]
    }
   ],
   "source": [
    "rating_data = rating_arr.reshape(rating_arr.shape[0], rating_arr.shape[1], 4,5 ).mean(axis=(1,3))\n",
    "\n",
    "for key, value in ssq_dict.items():\n",
    "    print(key)\n",
    "    #print(value.shape)\n",
    "    correlation_analysis(rating_data.flatten(), ssq_dict[key][:,1:].flatten(), method='spearman' )\n",
    "    print('-'*50)"
   ]
  },
  {
   "cell_type": "code",
   "execution_count": null,
   "metadata": {},
   "outputs": [],
   "source": [
    "feature_datat = feature_arr.mean(axis=1).reshape(4,5).mean(axis=1)\n",
    "v_data = v_arr.mean(axis=(1,2,3)).reshape(4,5).mean(axis=1)"
   ]
  },
  {
   "cell_type": "code",
   "execution_count": null,
   "metadata": {},
   "outputs": [],
   "source": [
    "feature_se = [ np.std(feature_arr.mean(axis=1)[x:x+5]) / np.sqrt(5) for x in range(0,20,5) ]\n",
    "v_se = [ np.std(v_arr.mean(axis=(1,2,3))[x:x+5]) / np.sqrt(5) for x in range(0,20,5) ]\n"
   ]
  },
  {
   "cell_type": "code",
   "execution_count": null,
   "metadata": {},
   "outputs": [
    {
     "data": {
      "image/png": "[encoded data removed]",
      "text/plain": [
       "<Figure size 1400x600 with 2 Axes>"
      ]
     },
     "metadata": {},
     "output_type": "display_data"
    }
   ],
   "source": [
    "colors = [ 'r', 'darkorange', 'b','darkgreen']\n",
    "font_dict = {'family': 'Times New Roman',\n",
    "      'color':  'black',\n",
    "      'weight': 'bold',\n",
    "      'size': 20,\n",
    "      'va' : 'center',\n",
    "      'ha' : 'center' }\n",
    "\n",
    "fig, axs = plt.subplots(1,2)\n",
    "fig.set_size_inches(14,6)\n",
    "\n",
    "axs[0].bar(range(4), feature_datat, color= colors)\n",
    "axs[0].set_title(\"Optical flow\", fontdict=font_dict)\n",
    "axs[0].set_xticks(range(4), [\"HMHB\", \"HMLB\", \"LMHB\",\"LMLB\"], family = 'Times New Roman', size = 20, weight = 'bold');\n",
    "axs[0].set_ylim(0,900)\n",
    "axs[0].set_ylabel('AVG Optical flow at each frame', family = 'Times New Roman', size = 20, weight = 'bold');\n",
    "axs[0].errorbar(range(4), feature_datat, feature_se,linestyle = 'None',capsize=10, capthick=1,elinewidth=5, color='black'); \n",
    "\n",
    "axs[1].bar(range(4), v_data, color=colors)\n",
    "axs[1].set_title(\"Value in HSV\", fontdict=font_dict)\n",
    "axs[1].set_xticks(range(4), [\"HMHB\", \"HMLB\", \"LMHB\",\"LMLB\"], family = 'Times New Roman', size = 20, weight = 'bold');\n",
    "axs[1].set_ylim(0,150)\n",
    "axs[1].set_ylabel('AVG Value at each frame', family = 'Times New Roman', size = 20, weight = 'bold');\n",
    "axs[1].errorbar(range(4), v_data, v_se, linestyle = 'None',capsize=10, capthick=1,elinewidth=5, color='black'); \n",
    "\n",
    "\n",
    "y1 = [150, 80, 40,30]\n",
    "y2= [15,15,10,6]\n",
    "for i, blc in enumerate(feature_datat): \n",
    "    axs[0].text(x = i, y=feature_datat[i] + y1[i] , s= round(blc, 3), fontdict=font_dict)\n",
    "for i, blc in enumerate(v_data): \n",
    "    axs[1].text(x = i, y= v_data[i] + y2[i]  , s= round(blc, 3), fontdict=font_dict)"
   ]
  }
 ],
 "metadata": {
  "kernelspec": {
   "display_name": "base",
   "language": "python",
   "name": "python3"
  },
  "language_info": {
   "codemirror_mode": {
    "name": "ipython",
    "version": 3
   },
   "file_extension": ".py",
   "mimetype": "text/x-python",
   "name": "python",
   "nbconvert_exporter": "python",
   "pygments_lexer": "ipython3",
   "version": "3.9.13"
  },
  "orig_nbformat": 4
 },
 "nbformat": 4,
 "nbformat_minor": 2
}
