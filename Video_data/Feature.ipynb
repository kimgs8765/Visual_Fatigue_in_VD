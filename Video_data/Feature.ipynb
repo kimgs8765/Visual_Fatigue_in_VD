{
 "cells": [
  {
   "cell_type": "code",
   "execution_count": 5,
   "metadata": {},
   "outputs": [
    {
     "name": "stdout",
     "output_type": "stream",
     "text": [
      "['1.mp4', '10.mp4', '11.mp4', '12.mp4', '13.mp4', '14.mp4', '15.mp4', '16.mp4', '17.mp4', '18.mp4', '19.mp4', '2.mp4', '20.mp4', '3.mp4', '4.mp4', '5.mp4', '6.mp4', '7.mp4', '8.mp4', '9.mp4']\n"
     ]
    }
   ],
   "source": [
    "import cv2\n",
    "import numpy as np\n",
    "import os\n",
    "from matplotlib import pyplot as plt\n",
    "\n",
    "\n",
    "curr_path = os.getcwd()\n",
    "output_folder = curr_path + \"/\"+'Feature2'  # 출력 폴더 경로\n",
    "\n",
    "if not os.path.exists(output_folder):\n",
    "    os.makedirs(output_folder)\n",
    "\n",
    "video_list = os.listdir()\n",
    "video_list = [ x for x in video_list if x.endswith(\".mp4\") ]\n",
    "\n",
    "print(video_list)"
   ]
  },
  {
   "cell_type": "code",
   "execution_count": 6,
   "metadata": {},
   "outputs": [],
   "source": [
    "def calc_motion_vector_sizes(video_list):\n",
    "\n",
    "    feature_params = dict(maxCorners=200, qualityLevel=0.01, minDistance=10, blockSize=10)\n",
    "\n",
    "    lk_params = dict(winSize=(21, 21), maxLevel=3, criteria=(cv2.TERM_CRITERIA_EPS | cv2.TERM_CRITERIA_COUNT, 10, 0.03))\n",
    "\n",
    "    for filename in video_list:\n",
    "        print(f\"processing vidoe {filename}\")\n",
    "\n",
    "        cap = cv2.VideoCapture( os.getcwd() + \"/\" + filename)\n",
    "\n",
    "        frame_count = 0\n",
    "        prev_frame = None\n",
    "        good_new = None\n",
    "        good_old = None \n",
    "        gray = None\n",
    "        motion_vector_sizes = []\n",
    "\n",
    "        while True:\n",
    "\n",
    "            frame_count += 1\n",
    "            if not frame_count % 1000 :\n",
    "                print(f\"frame_{frame_count} is procssing\")\n",
    "\n",
    "            ret, frame = cap.read()\n",
    "\n",
    "            if not ret:\n",
    "                break\n",
    "\n",
    "            gray = cv2.cvtColor(frame, cv2.COLOR_BGR2GRAY)\n",
    "            gray = cv2.resize(gray, (256,256))\n",
    "\n",
    "            if prev_frame is None:\n",
    "                prev_frame = gray\n",
    "                continue\n",
    "\n",
    "            prev_corners = cv2.goodFeaturesToTrack(prev_frame, mask=None, **feature_params)\n",
    "\n",
    "            if prev_corners is not None :\n",
    "                curr_corners, status, errors = cv2.calcOpticalFlowPyrLK(prev_frame, gray, prev_corners, None, **lk_params)\n",
    "\n",
    "                good_new = curr_corners[(status==1)]\n",
    "                good_old = prev_corners[(status==1)]\n",
    "\n",
    "                motion_vector_size = np.sqrt(np.sum((good_new - good_old)**2, axis=1)).sum()\n",
    "\n",
    "                motion_vector_sizes.append(motion_vector_size)\n",
    "\n",
    "                prev_corners = good_new\n",
    "                prev_frame = gray\n",
    "            \n",
    "            else : \n",
    "                print(f\"video_{filename}에서 {frame_count} 번쩨 Frame 특징점 못 찾음\")\n",
    "                motion_vector_sizes.append(0)\n",
    "                prev_frame = gray\n",
    "\n",
    "                \n",
    "        output_path = os.path.join(output_folder, f\"{os.path.splitext(filename)[0]}_feature.npy\")\n",
    "        np.save( output_path, motion_vector_sizes) \n",
    "        \n",
    "        cap.release()"
   ]
  },
  {
   "cell_type": "code",
   "execution_count": 7,
   "metadata": {},
   "outputs": [
    {
     "name": "stdout",
     "output_type": "stream",
     "text": [
      "processing vidoe 1.mp4\n",
      "frame_1000 is procssing\n",
      "frame_2000 is procssing\n",
      "frame_3000 is procssing\n",
      "processing vidoe 10.mp4\n",
      "frame_1000 is procssing\n",
      "frame_2000 is procssing\n",
      "frame_3000 is procssing\n",
      "processing vidoe 11.mp4\n",
      "frame_1000 is procssing\n",
      "frame_2000 is procssing\n",
      "frame_3000 is procssing\n",
      "processing vidoe 12.mp4\n",
      "frame_1000 is procssing\n",
      "frame_2000 is procssing\n",
      "frame_3000 is procssing\n",
      "frame_4000 is procssing\n",
      "processing vidoe 13.mp4\n",
      "frame_1000 is procssing\n",
      "frame_2000 is procssing\n",
      "frame_3000 is procssing\n",
      "processing vidoe 14.mp4\n",
      "frame_1000 is procssing\n",
      "frame_2000 is procssing\n",
      "frame_3000 is procssing\n",
      "frame_4000 is procssing\n",
      "processing vidoe 15.mp4\n",
      "frame_1000 is procssing\n",
      "frame_2000 is procssing\n",
      "frame_3000 is procssing\n",
      "processing vidoe 16.mp4\n",
      "frame_1000 is procssing\n",
      "frame_2000 is procssing\n",
      "frame_3000 is procssing\n",
      "frame_4000 is procssing\n",
      "processing vidoe 17.mp4\n",
      "frame_1000 is procssing\n",
      "frame_2000 is procssing\n",
      "frame_3000 is procssing\n",
      "processing vidoe 18.mp4\n",
      "frame_1000 is procssing\n",
      "frame_2000 is procssing\n",
      "frame_3000 is procssing\n",
      "processing vidoe 19.mp4\n",
      "frame_1000 is procssing\n",
      "frame_2000 is procssing\n",
      "frame_3000 is procssing\n",
      "frame_4000 is procssing\n",
      "processing vidoe 2.mp4\n",
      "frame_1000 is procssing\n",
      "frame_2000 is procssing\n",
      "frame_3000 is procssing\n",
      "processing vidoe 20.mp4\n",
      "frame_1000 is procssing\n",
      "frame_2000 is procssing\n",
      "frame_3000 is procssing\n",
      "processing vidoe 3.mp4\n",
      "frame_1000 is procssing\n",
      "frame_2000 is procssing\n",
      "frame_3000 is procssing\n",
      "processing vidoe 4.mp4\n",
      "frame_1000 is procssing\n",
      "frame_2000 is procssing\n",
      "frame_3000 is procssing\n",
      "processing vidoe 5.mp4\n",
      "frame_1000 is procssing\n",
      "frame_2000 is procssing\n",
      "frame_3000 is procssing\n",
      "processing vidoe 6.mp4\n",
      "frame_1000 is procssing\n",
      "frame_2000 is procssing\n",
      "frame_3000 is procssing\n",
      "processing vidoe 7.mp4\n",
      "frame_1000 is procssing\n",
      "frame_2000 is procssing\n",
      "frame_3000 is procssing\n",
      "processing vidoe 8.mp4\n",
      "frame_1000 is procssing\n",
      "frame_2000 is procssing\n",
      "frame_3000 is procssing\n",
      "processing vidoe 9.mp4\n",
      "frame_1000 is procssing\n",
      "frame_2000 is procssing\n",
      "frame_3000 is procssing\n"
     ]
    }
   ],
   "source": [
    "calc_motion_vector_sizes(video_list)"
   ]
  },
  {
   "cell_type": "code",
   "execution_count": 7,
   "metadata": {},
   "outputs": [
    {
     "data": {
      "text/plain": [
       "[1, 2, 3, 4, 5, 6, 7, 8, 9, 10, 11, 12, 13, 14, 15, 16, 17, 18, 19, 20]"
      ]
     },
     "execution_count": 7,
     "metadata": {},
     "output_type": "execute_result"
    }
   ],
   "source": [
    "data_dir  = os.getcwd( ) +\"/Feature\"\n",
    "file_list = os.listdir(data_dir)\n",
    "file_list = [ int(x.split(\"_\")[0]) for x in file_list ]\n",
    "file_list.sort()\n",
    "file_list"
   ]
  },
  {
   "cell_type": "code",
   "execution_count": 8,
   "metadata": {},
   "outputs": [
    {
     "name": "stdout",
     "output_type": "stream",
     "text": [
      "[1397898.9165153503, 1608319.8070793152, 4279125.820962369, 3038073.2938690186, 3160291.5948028564, 1275451.963476181, 1882909.8793869019, 855707.2544529438, 939339.4706926346, 992931.7067897618, 464478.0611305237, 697266.6778583527, 446106.7089519501, 550859.0747827291, 321812.89921232313, 163459.47592677176, 217972.47179382294, 105054.86492872238, 129225.1735234838, 66956.95264635328]\n"
     ]
    }
   ],
   "source": [
    "sum_list = []\n",
    "for file in file_list : \n",
    "    file = str(file) + \"_feature.npy\"\n",
    "    arr = np.load( os.path.join(data_dir, file)).astype(float)\n",
    "    #mask = ~np.isinf(arr)\n",
    "    #sum_rels = np.sum(arr[mask])\n",
    "    sum_rels = arr.sum()\n",
    "    sum_list.append(sum_rels)\n",
    "print(sum_list)"
   ]
  },
  {
   "cell_type": "code",
   "execution_count": 9,
   "metadata": {},
   "outputs": [
    {
     "data": {
      "text/plain": [
       "([<matplotlib.axis.XTick at 0x1c9608b4160>,\n",
       "  <matplotlib.axis.XTick at 0x1c9607f7f10>,\n",
       "  <matplotlib.axis.XTick at 0x1c9608932e0>,\n",
       "  <matplotlib.axis.XTick at 0x1c9609106d0>],\n",
       " [Text(2, 0, 'HMHB'),\n",
       "  Text(7, 0, 'HMLB'),\n",
       "  Text(12, 0, 'LMLB'),\n",
       "  Text(17, 0, 'LMLB')])"
      ]
     },
     "execution_count": 9,
     "metadata": {},
     "output_type": "execute_result"
    },
    {
     "data": {
      "image/png": "[encoded data removed]",
      "text/plain": [
       "<Figure size 720x720 with 1 Axes>"
      ]
     },
     "metadata": {
      "needs_background": "light"
     },
     "output_type": "display_data"
    }
   ],
   "source": [
    "fig = plt.figure(figsize=(10,10));\n",
    "plt.bar( range(len(sum_list)), sum_list, color=np.repeat([\"r\",\"darkorange\",\"b\",\"darkgreen\"], 5));\n",
    "plt.xticks( [2,7,12,17] , [\"HMHB\",\"HMLB\",\"LMLB\",\"LMLB\"]);"
   ]
  },
  {
   "cell_type": "code",
   "execution_count": null,
   "metadata": {},
   "outputs": [],
   "source": []
  }
 ],
 "metadata": {
  "kernelspec": {
   "display_name": "base",
   "language": "python",
   "name": "python3"
  },
  "language_info": {
   "codemirror_mode": {
    "name": "ipython",
    "version": 3
   },
   "file_extension": ".py",
   "mimetype": "text/x-python",
   "name": "python",
   "nbconvert_exporter": "python",
   "pygments_lexer": "ipython3",
   "version": "3.9.7"
  },
  "orig_nbformat": 4
 },
 "nbformat": 4,
 "nbformat_minor": 2
}
